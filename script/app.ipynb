{
 "cells": [
  {
   "cell_type": "markdown",
   "metadata": {},
   "source": [
    "# Merging Data"
   ]
  },
  {
   "cell_type": "markdown",
   "metadata": {},
   "source": [
    "### Import Dependencies"
   ]
  },
  {
   "cell_type": "code",
   "execution_count": 4,
   "metadata": {},
   "outputs": [],
   "source": [
    "import os\n",
    "import pandas as pd"
   ]
  },
  {
   "cell_type": "markdown",
   "metadata": {},
   "source": [
    "### Changing Directory"
   ]
  },
  {
   "cell_type": "code",
   "execution_count": 8,
   "metadata": {},
   "outputs": [
    {
     "name": "stdout",
     "output_type": "stream",
     "text": [
      "Current Working Directory: /Users/robertzygmuntlehr/Desktop/Projects/Code/BootCamp/Challenges/Challenge_18/Resources\n"
     ]
    }
   ],
   "source": [
    "# Change the working directory to the Resources directory\n",
    "os.chdir(\"Resources\")\n",
    "\n",
    "# Check the new working directory\n",
    "print(\"Current Working Directory:\", os.getcwd())\n"
   ]
  },
  {
   "cell_type": "markdown",
   "metadata": {},
   "source": [
    "### Merging Data"
   ]
  },
  {
   "cell_type": "code",
   "execution_count": 9,
   "metadata": {},
   "outputs": [
    {
     "name": "stdout",
     "output_type": "stream",
     "text": [
      "Combined data saved to merged_data/combined_citibike_data.csv\n"
     ]
    }
   ],
   "source": [
    "# Specify the full path to the directory containing CSV files\n",
    "csv_directory = \"/Users/robertzygmuntlehr/Desktop/Projects/Code/BootCamp/Challenges/Challenge_18/Resources\"\n",
    "\n",
    "# List of CSV file names with their full paths\n",
    "csv_files = [\n",
    "   os.path.join(csv_directory, \"JC-202301-citibike-tripdata.csv\"),\n",
    "   os.path.join(csv_directory, \"JC-202302-citibike-tripdata.csv\"),\n",
    "   os.path.join(csv_directory, \"JC-202303-citibike-tripdata.csv\"),\n",
    "   os.path.join(csv_directory, \"JC-202304-citibike-tripdata.csv\"),\n",
    "   os.path.join(csv_directory, \"JC-202305-citibike-tripdata.csv\"),\n",
    "   os.path.join(csv_directory, \"JC-202306-citibike-tripdata.csv\")\n",
    "]\n",
    "\n",
    "# Combine CSV files into a single DataFrame\n",
    "combined_data = pd.concat([pd.read_csv(file) for file in csv_files])\n",
    "\n",
    "# Specify the folder to save the combined CSV file\n",
    "output_folder = \"merged_data\"  # Change this to your desired output folder\n",
    "\n",
    "# Create the output folder if it doesn't exist\n",
    "os.makedirs(output_folder, exist_ok=True)\n",
    "\n",
    "# Save the combined DataFrame to a new CSV file\n",
    "output_file_path = os.path.join(output_folder, \"combined_citibike_data.csv\")\n",
    "combined_data.to_csv(output_file_path, index=False)\n",
    "\n",
    "print(f\"Combined data saved to {output_file_path}\")"
   ]
  },
  {
   "cell_type": "code",
   "execution_count": null,
   "metadata": {},
   "outputs": [],
   "source": []
  }
 ],
 "metadata": {
  "kernelspec": {
   "display_name": "base",
   "language": "python",
   "name": "python3"
  },
  "language_info": {
   "codemirror_mode": {
    "name": "ipython",
    "version": 3
   },
   "file_extension": ".py",
   "mimetype": "text/x-python",
   "name": "python",
   "nbconvert_exporter": "python",
   "pygments_lexer": "ipython3",
   "version": "3.9.13"
  },
  "orig_nbformat": 4
 },
 "nbformat": 4,
 "nbformat_minor": 2
}
